{
 "cells": [
  {
   "cell_type": "markdown",
   "metadata": {},
   "source": [
    "# Support Vector Machines (SVM)\n",
    "SVM is a supervised learning algorithm used for classification. It works by finding the best line (or hyperplane in high-dimensional data) that separates the given groups. It can be used to perform binary or multiclass classification. SVM works by finding the largest "
   ]
  },
  {
   "cell_type": "code",
   "execution_count": null,
   "metadata": {},
   "outputs": [],
   "source": []
  },
  {
   "cell_type": "markdown",
   "metadata": {},
   "source": []
  },
  {
   "cell_type": "markdown",
   "metadata": {},
   "source": []
  },
  {
   "cell_type": "markdown",
   "metadata": {},
   "source": [
    "# References and Further Reading\n",
    "[Introduction to Support Vector Machines (SVM)](https://www.geeksforgeeks.org/introduction-to-support-vector-machines-svm/)\n",
    "\n",
    "[Classifying data using Support Vector Machines(SVMs) in Python\n",
    "](https://www.geeksforgeeks.org/classifying-data-using-support-vector-machinessvms-in-python/\n",
    "\n",
    "[Huang, Shujun, et al. \"Applications of support vector machine (SVM) learning in cancer genomics.\" Cancer genomics & proteomics 15.1 (2018): 41-51.‏](https://cgp.iiarjournals.org/content/cgp/15/1/41.full.pdf))"
   ]
  }
 ],
 "metadata": {
  "kernelspec": {
   "display_name": "Python 3 (ipykernel)",
   "language": "python",
   "name": "python3"
  },
  "language_info": {
   "codemirror_mode": {
    "name": "ipython",
    "version": 3
   },
   "file_extension": ".py",
   "mimetype": "text/x-python",
   "name": "python",
   "nbconvert_exporter": "python",
   "pygments_lexer": "ipython3",
   "version": "3.11.4"
  }
 },
 "nbformat": 4,
 "nbformat_minor": 4
}
